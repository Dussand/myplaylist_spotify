{
 "cells": [
  {
   "cell_type": "code",
   "execution_count": 1,
   "metadata": {},
   "outputs": [
    {
     "name": "stdout",
     "output_type": "stream",
     "text": [
      "Playlist: My recommendation playlist, ID: 3XMMgmodaAPCHcCXBkgr5k\n",
      "Playlist: My recommendation playlist, ID: 5bQpZDbY0JqW2wvmC5SpB7\n",
      "Playlist: DJ, ID: 37i9dQZF1EYkqdzj48dyYq\n",
      "Playlist: duchazo, ID: 4eOY4P1EyXudJoSmZu4uIu\n",
      "Playlist: myhead, ID: 4Q3DMQ58r0PepiqMMhhGqW\n"
     ]
    }
   ],
   "source": [
    "import spotipy\n",
    "from spotipy.oauth2 import SpotifyOAuth\n",
    "import pandas as pd\n",
    "\n",
    "#definimos las credenciales\n",
    "\n",
    "client_id = 'b6841f7c97974c8aacbdf448dae8677f'\n",
    "client_secret = 'bc15cade85bc41f88d451fbb2c832eff'\n",
    "redirect_url = 'http://localhost:8888/callback/'\n",
    "\n",
    "#scope (permisos) para acceder a tus playlist\n",
    "scope = 'playlist-read-private'\n",
    "\n",
    "#autenticacion \n",
    "sp = spotipy.Spotify(auth_manager = SpotifyOAuth(\n",
    "    client_id = client_id,\n",
    "    client_secret = client_secret,\n",
    "    redirect_uri = redirect_url,\n",
    "    scope = scope\n",
    "))\n",
    "\n",
    "# Obtener tus playlists\n",
    "playlists = sp.current_user_playlists()\n",
    "playlists\n",
    "#mostrar lso nombres de las playlist y sus IDS\n",
    "for playlist in playlists['items']:\n",
    "    print(f\"Playlist: {playlist['name']}, ID: {playlist['id']}\")"
   ]
  },
  {
   "cell_type": "code",
   "execution_count": 2,
   "metadata": {},
   "outputs": [],
   "source": [
    "#especifico el ID de mi playist a explorar\n",
    "playlist_id = '4Q3DMQ58r0PepiqMMhhGqW'\n",
    "\n",
    "#obtengo los resultados de las canciones de mi playlist\n",
    "results = sp.playlist_tracks(playlist_id)"
   ]
  },
  {
   "cell_type": "code",
   "execution_count": 9,
   "metadata": {},
   "outputs": [],
   "source": [
    "# Lista para almacenar todas las canciones\n",
    "all_tracks = []\n",
    "\n",
    "# Iterar mientras haya canciones en la respuesta\n",
    "while results['items']:\n",
    "    for item in results['items']:\n",
    "        track = item['track']\n",
    "        artists_id = track['artists'][0]['id']\n",
    "        artists_info = sp.artist(artists_id)\n",
    "        genres = artists_info['genres']\n",
    "        album = track['album']\n",
    "        artist_id = track['artists'][0]['id']  # ID del artista principal\n",
    "        album_image_url = album['images'][0]['url'] if album['images'] else None\n",
    "        \n",
    "        # Obtener la información del artista, incluyendo la imagen de perfil\n",
    "        artist_info = sp.artist(artist_id)\n",
    "        artist_image_url = artist_info['images'][0]['url'] if artist_info['images'] else None\n",
    "\n",
    "\n",
    "        all_tracks.append({\n",
    "            'name': track['name'],\n",
    "            'artist': track['artists'][0]['name'],\n",
    "            'album': track['album']['name'],\n",
    "            'duration_sec': track['duration_ms'] / 1000,\n",
    "            'popularity': track['popularity'],\n",
    "            'release_date': track['album']['release_date'],\n",
    "            'album_image_url': album_image_url,\n",
    "            'artist_image_url': artist_image_url,\n",
    "            'genres': ', '.join(genres),\n",
    "            'track_id':track['id']\n",
    "        })\n",
    "    \n",
    "    # Incrementar el offset para obtener el siguiente bloque de canciones\n",
    "    offset = len(all_tracks)\n",
    "    results = sp.playlist_tracks(playlist_id, offset=offset)\n",
    "\n",
    "# Crear DataFrame con todos los datos de las canciones\n",
    "playlist_df = pd.DataFrame(all_tracks)\n"
   ]
  },
  {
   "cell_type": "code",
   "execution_count": 10,
   "metadata": {},
   "outputs": [],
   "source": [
    "# Separar la columna 'genres' por comas y expandir los resultados en columnas\n",
    "genres_split = playlist_df['genres'].str.split(', ', expand=True)\n",
    "\n",
    "# Renombrar las columnas resultantes\n",
    "genres_split.columns = [f'genre_{i+1}' for i in range(genres_split.shape[1])]\n",
    "\n",
    "# Convertir todos los valores de la columna 'genres' a cadenas por si acaso hay valores no string\n",
    "playlist_df['genres'] = playlist_df['genres'].astype(str)\n",
    "\n",
    "# Contar la cantidad de géneros en cada fila\n",
    "playlist_df['genre_count'] = playlist_df['genres'].apply(lambda x: len(x.split(', ')))\n",
    "\n",
    "# Unir el DataFrame original con el DataFrame de géneros separados\n",
    "playlist_df = pd.concat([playlist_df, genres_split], axis=1)"
   ]
  },
  {
   "cell_type": "code",
   "execution_count": 11,
   "metadata": {},
   "outputs": [],
   "source": [
    "playlist_df.to_csv('my_playlist.csv')"
   ]
  },
  {
   "cell_type": "code",
   "execution_count": null,
   "metadata": {},
   "outputs": [],
   "source": [
    "playlist_df"
   ]
  },
  {
   "cell_type": "code",
   "execution_count": null,
   "metadata": {},
   "outputs": [],
   "source": []
  }
 ],
 "metadata": {
  "kernelspec": {
   "display_name": "Python 3",
   "language": "python",
   "name": "python3"
  },
  "language_info": {
   "codemirror_mode": {
    "name": "ipython",
    "version": 3
   },
   "file_extension": ".py",
   "mimetype": "text/x-python",
   "name": "python",
   "nbconvert_exporter": "python",
   "pygments_lexer": "ipython3",
   "version": "3.12.6"
  }
 },
 "nbformat": 4,
 "nbformat_minor": 2
}
