{
 "cells": [
  {
   "cell_type": "code",
   "execution_count": null,
   "metadata": {},
   "outputs": [],
   "source": [
    "import spotipy\n",
    "from spotipy.oauth2 import SpotifyOAuth\n",
    "import pandas as pd\n",
    "\n",
    "# Configuración de autenticación\n",
    "client_id = 'b6841f7c97974c8aacbdf448dae8677f'\n",
    "client_secret = 'bc15cade85bc41f88d451fbb2c832eff'\n",
    "redirect_uri = 'http://localhost:8888/callback/'\n",
    "scope = 'user-read-private'\n",
    "\n",
    "sp = spotipy.Spotify(auth_manager=SpotifyOAuth(\n",
    "    client_id=client_id,\n",
    "    client_secret=client_secret,\n",
    "    redirect_uri=redirect_uri,\n",
    "    scope=scope\n",
    "))\n",
    "\n",
    "# Buscar un artista por nombre\n",
    "artist_name = 'Kendrick Lamar'  # Reemplaza con el nombre del artista\n",
    "results = sp.search(q=f'artist:{artist_name}', type='artist')\n",
    "\n",
    "# Obtener el ID del primer artista en los resultados\n",
    "if not results['artists']['items']:\n",
    "    print(\"Artista no encontrado.\")\n",
    "else:\n",
    "    artist_id = results['artists']['items'][0]['id']\n",
    "\n",
    "    # Obtener todos los álbumes del artista\n",
    "    albums = sp.artist_albums(artist_id, album_type='album', limit=50)\n",
    "\n",
    "    # Lista para almacenar todas las canciones y álbumes\n",
    "    all_songs = [\n",
    "        {\n",
    "            'album': album['name'],\n",
    "            'track_name': track['name'],\n",
    "            'track_id': track['id'],\n",
    "            'duration_sec': track['duration_ms'] / 1000,\n",
    "            'popularity': track['popularity'],  # Información ya disponible en el objeto track\n",
    "            'release_date': album['release_date'],\n",
    "            'album_image_url': album['images'][0]['url'] if album['images'] else None\n",
    "        }\n",
    "        for album in albums['items']\n",
    "        for track in sp.album_tracks(album['id'])['items']\n",
    "    ]\n",
    "\n",
    "    # Crear un DataFrame con todos los datos de las canciones\n",
    "    df = pd.DataFrame(all_songs)\n",
    "\n",
    "    # Añadir el nombre del artista al DataFrame\n",
    "    df['artist'] = artist_name\n",
    "\n",
    "    # Mostrar las primeras filas del DataFrame para verificar\n",
    "    print(df.head())"
   ]
  },
  {
   "cell_type": "code",
   "execution_count": 21,
   "metadata": {},
   "outputs": [],
   "source": [
    "df.to_csv(f'{artist_name}.csv')"
   ]
  },
  {
   "cell_type": "code",
   "execution_count": 10,
   "metadata": {},
   "outputs": [],
   "source": []
  },
  {
   "cell_type": "code",
   "execution_count": null,
   "metadata": {},
   "outputs": [],
   "source": []
  }
 ],
 "metadata": {
  "kernelspec": {
   "display_name": "Python 3",
   "language": "python",
   "name": "python3"
  },
  "language_info": {
   "codemirror_mode": {
    "name": "ipython",
    "version": 3
   },
   "file_extension": ".py",
   "mimetype": "text/x-python",
   "name": "python",
   "nbconvert_exporter": "python",
   "pygments_lexer": "ipython3",
   "version": "3.12.6"
  }
 },
 "nbformat": 4,
 "nbformat_minor": 2
}
